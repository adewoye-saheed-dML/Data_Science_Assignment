{
 "cells": [
  {
   "cell_type": "markdown",
   "id": "d51699e3-1a19-4f7f-b353-ea80ee03c276",
   "metadata": {},
   "source": [
    "# Exploratory Data Analysis on a Retail Sales Data"
   ]
  },
  {
   "cell_type": "markdown",
   "id": "e286de8a-f248-4b33-b0f1-17ec6ff1b75b",
   "metadata": {},
   "source": [
    "### Questions"
   ]
  },
  {
   "cell_type": "markdown",
   "id": "f2af607a-97c7-4b9f-9f40-ce652f89fc65",
   "metadata": {},
   "source": [
    "Let's start by extracting the following insights from our dataset\n",
    "\n",
    "- Sales trend: Monthly\n",
    "\n",
    "- Product performance: Top selling products and price impact\n",
    "\n",
    "- Geographical Insights: Regional Performance\n",
    "\n",
    "- Sales Distribution: Order Quantity Distribution and Revenue Distribution\n"
   ]
  },
  {
   "cell_type": "code",
   "execution_count": 1,
   "id": "d83d1f88-5b59-4ac6-923b-f19dc4062663",
   "metadata": {},
   "outputs": [],
   "source": [
    "# Import packages\n",
    "\n",
    "import numpy as np\n",
    "import pandas as pd\n",
    "import matplotlib.pyplot as plt\n",
    "import seaborn as sns\n",
    "import plotly.express as px"
   ]
  },
  {
   "cell_type": "code",
   "execution_count": 2,
   "id": "813d9364-9997-44b1-98aa-c3c7352dcfc0",
   "metadata": {},
   "outputs": [
    {
     "data": {
      "text/html": [
       "<div>\n",
       "<style scoped>\n",
       "    .dataframe tbody tr th:only-of-type {\n",
       "        vertical-align: middle;\n",
       "    }\n",
       "\n",
       "    .dataframe tbody tr th {\n",
       "        vertical-align: top;\n",
       "    }\n",
       "\n",
       "    .dataframe thead th {\n",
       "        text-align: right;\n",
       "    }\n",
       "</style>\n",
       "<table border=\"1\" class=\"dataframe\">\n",
       "  <thead>\n",
       "    <tr style=\"text-align: right;\">\n",
       "      <th></th>\n",
       "      <th>QUANTITYORDERED</th>\n",
       "      <th>PRICEEACH</th>\n",
       "      <th>ORDERLINENUMBER</th>\n",
       "      <th>SALES</th>\n",
       "      <th>ORDERDATE</th>\n",
       "      <th>STATUS</th>\n",
       "      <th>QTR_ID</th>\n",
       "      <th>MONTH_ID</th>\n",
       "      <th>YEAR_ID</th>\n",
       "      <th>PRODUCTLINE</th>\n",
       "      <th>...</th>\n",
       "      <th>ADDRESSLINE1</th>\n",
       "      <th>ADDRESSLINE2</th>\n",
       "      <th>CITY</th>\n",
       "      <th>STATE</th>\n",
       "      <th>POSTALCODE</th>\n",
       "      <th>COUNTRY</th>\n",
       "      <th>TERRITORY</th>\n",
       "      <th>CONTACTLASTNAME</th>\n",
       "      <th>CONTACTFIRSTNAME</th>\n",
       "      <th>DEALSIZE</th>\n",
       "    </tr>\n",
       "    <tr>\n",
       "      <th>ORDERNUMBER</th>\n",
       "      <th></th>\n",
       "      <th></th>\n",
       "      <th></th>\n",
       "      <th></th>\n",
       "      <th></th>\n",
       "      <th></th>\n",
       "      <th></th>\n",
       "      <th></th>\n",
       "      <th></th>\n",
       "      <th></th>\n",
       "      <th></th>\n",
       "      <th></th>\n",
       "      <th></th>\n",
       "      <th></th>\n",
       "      <th></th>\n",
       "      <th></th>\n",
       "      <th></th>\n",
       "      <th></th>\n",
       "      <th></th>\n",
       "      <th></th>\n",
       "      <th></th>\n",
       "    </tr>\n",
       "  </thead>\n",
       "  <tbody>\n",
       "    <tr>\n",
       "      <th>10107</th>\n",
       "      <td>30</td>\n",
       "      <td>95.70</td>\n",
       "      <td>2</td>\n",
       "      <td>2871.00</td>\n",
       "      <td>2/24/2003 0:00</td>\n",
       "      <td>Shipped</td>\n",
       "      <td>1</td>\n",
       "      <td>2</td>\n",
       "      <td>2003</td>\n",
       "      <td>Motorcycles</td>\n",
       "      <td>...</td>\n",
       "      <td>897 Long Airport Avenue</td>\n",
       "      <td>NaN</td>\n",
       "      <td>NYC</td>\n",
       "      <td>NY</td>\n",
       "      <td>10022</td>\n",
       "      <td>USA</td>\n",
       "      <td>NaN</td>\n",
       "      <td>Yu</td>\n",
       "      <td>Kwai</td>\n",
       "      <td>Small</td>\n",
       "    </tr>\n",
       "    <tr>\n",
       "      <th>10121</th>\n",
       "      <td>34</td>\n",
       "      <td>81.35</td>\n",
       "      <td>5</td>\n",
       "      <td>2765.90</td>\n",
       "      <td>5/7/2003 0:00</td>\n",
       "      <td>Shipped</td>\n",
       "      <td>2</td>\n",
       "      <td>5</td>\n",
       "      <td>2003</td>\n",
       "      <td>Motorcycles</td>\n",
       "      <td>...</td>\n",
       "      <td>59 rue de l'Abbaye</td>\n",
       "      <td>NaN</td>\n",
       "      <td>Reims</td>\n",
       "      <td>NaN</td>\n",
       "      <td>51100</td>\n",
       "      <td>France</td>\n",
       "      <td>EMEA</td>\n",
       "      <td>Henriot</td>\n",
       "      <td>Paul</td>\n",
       "      <td>Small</td>\n",
       "    </tr>\n",
       "    <tr>\n",
       "      <th>10134</th>\n",
       "      <td>41</td>\n",
       "      <td>94.74</td>\n",
       "      <td>2</td>\n",
       "      <td>3884.34</td>\n",
       "      <td>7/1/2003 0:00</td>\n",
       "      <td>Shipped</td>\n",
       "      <td>3</td>\n",
       "      <td>7</td>\n",
       "      <td>2003</td>\n",
       "      <td>Motorcycles</td>\n",
       "      <td>...</td>\n",
       "      <td>27 rue du Colonel Pierre Avia</td>\n",
       "      <td>NaN</td>\n",
       "      <td>Paris</td>\n",
       "      <td>NaN</td>\n",
       "      <td>75508</td>\n",
       "      <td>France</td>\n",
       "      <td>EMEA</td>\n",
       "      <td>Da Cunha</td>\n",
       "      <td>Daniel</td>\n",
       "      <td>Medium</td>\n",
       "    </tr>\n",
       "    <tr>\n",
       "      <th>10145</th>\n",
       "      <td>45</td>\n",
       "      <td>83.26</td>\n",
       "      <td>6</td>\n",
       "      <td>3746.70</td>\n",
       "      <td>8/25/2003 0:00</td>\n",
       "      <td>Shipped</td>\n",
       "      <td>3</td>\n",
       "      <td>8</td>\n",
       "      <td>2003</td>\n",
       "      <td>Motorcycles</td>\n",
       "      <td>...</td>\n",
       "      <td>78934 Hillside Dr.</td>\n",
       "      <td>NaN</td>\n",
       "      <td>Pasadena</td>\n",
       "      <td>CA</td>\n",
       "      <td>90003</td>\n",
       "      <td>USA</td>\n",
       "      <td>NaN</td>\n",
       "      <td>Young</td>\n",
       "      <td>Julie</td>\n",
       "      <td>Medium</td>\n",
       "    </tr>\n",
       "    <tr>\n",
       "      <th>10159</th>\n",
       "      <td>49</td>\n",
       "      <td>100.00</td>\n",
       "      <td>14</td>\n",
       "      <td>5205.27</td>\n",
       "      <td>10/10/2003 0:00</td>\n",
       "      <td>Shipped</td>\n",
       "      <td>4</td>\n",
       "      <td>10</td>\n",
       "      <td>2003</td>\n",
       "      <td>Motorcycles</td>\n",
       "      <td>...</td>\n",
       "      <td>7734 Strong St.</td>\n",
       "      <td>NaN</td>\n",
       "      <td>San Francisco</td>\n",
       "      <td>CA</td>\n",
       "      <td>NaN</td>\n",
       "      <td>USA</td>\n",
       "      <td>NaN</td>\n",
       "      <td>Brown</td>\n",
       "      <td>Julie</td>\n",
       "      <td>Medium</td>\n",
       "    </tr>\n",
       "  </tbody>\n",
       "</table>\n",
       "<p>5 rows × 24 columns</p>\n",
       "</div>"
      ],
      "text/plain": [
       "             QUANTITYORDERED  PRICEEACH  ORDERLINENUMBER    SALES  \\\n",
       "ORDERNUMBER                                                         \n",
       "10107                     30      95.70                2  2871.00   \n",
       "10121                     34      81.35                5  2765.90   \n",
       "10134                     41      94.74                2  3884.34   \n",
       "10145                     45      83.26                6  3746.70   \n",
       "10159                     49     100.00               14  5205.27   \n",
       "\n",
       "                   ORDERDATE   STATUS  QTR_ID  MONTH_ID  YEAR_ID  PRODUCTLINE  \\\n",
       "ORDERNUMBER                                                                     \n",
       "10107         2/24/2003 0:00  Shipped       1         2     2003  Motorcycles   \n",
       "10121          5/7/2003 0:00  Shipped       2         5     2003  Motorcycles   \n",
       "10134          7/1/2003 0:00  Shipped       3         7     2003  Motorcycles   \n",
       "10145         8/25/2003 0:00  Shipped       3         8     2003  Motorcycles   \n",
       "10159        10/10/2003 0:00  Shipped       4        10     2003  Motorcycles   \n",
       "\n",
       "             ...                   ADDRESSLINE1 ADDRESSLINE2           CITY  \\\n",
       "ORDERNUMBER  ...                                                              \n",
       "10107        ...        897 Long Airport Avenue          NaN            NYC   \n",
       "10121        ...             59 rue de l'Abbaye          NaN          Reims   \n",
       "10134        ...  27 rue du Colonel Pierre Avia          NaN          Paris   \n",
       "10145        ...             78934 Hillside Dr.          NaN       Pasadena   \n",
       "10159        ...                7734 Strong St.          NaN  San Francisco   \n",
       "\n",
       "            STATE POSTALCODE COUNTRY TERRITORY CONTACTLASTNAME  \\\n",
       "ORDERNUMBER                                                      \n",
       "10107          NY      10022     USA       NaN              Yu   \n",
       "10121         NaN      51100  France      EMEA         Henriot   \n",
       "10134         NaN      75508  France      EMEA        Da Cunha   \n",
       "10145          CA      90003     USA       NaN           Young   \n",
       "10159          CA        NaN     USA       NaN           Brown   \n",
       "\n",
       "            CONTACTFIRSTNAME DEALSIZE  \n",
       "ORDERNUMBER                            \n",
       "10107                   Kwai    Small  \n",
       "10121                   Paul    Small  \n",
       "10134                 Daniel   Medium  \n",
       "10145                  Julie   Medium  \n",
       "10159                  Julie   Medium  \n",
       "\n",
       "[5 rows x 24 columns]"
      ]
     },
     "execution_count": 2,
     "metadata": {},
     "output_type": "execute_result"
    }
   ],
   "source": [
    "# Load the data\n",
    "df= pd.read_csv('C:/Users/WOYES/Desktop/HNG/sales_data_sample.csv',encoding='latin1', index_col=0)\n",
    "\n",
    "# preview the dataframe\n",
    "df.head()"
   ]
  },
  {
   "cell_type": "code",
   "execution_count": 3,
   "id": "8749d58c-b2b7-4800-be86-acf1b956e7d7",
   "metadata": {},
   "outputs": [
    {
     "name": "stdout",
     "output_type": "stream",
     "text": [
      "<class 'pandas.core.frame.DataFrame'>\n",
      "Index: 2823 entries, 10107 to 10414\n",
      "Data columns (total 24 columns):\n",
      " #   Column            Non-Null Count  Dtype  \n",
      "---  ------            --------------  -----  \n",
      " 0   QUANTITYORDERED   2823 non-null   int64  \n",
      " 1   PRICEEACH         2823 non-null   float64\n",
      " 2   ORDERLINENUMBER   2823 non-null   int64  \n",
      " 3   SALES             2823 non-null   float64\n",
      " 4   ORDERDATE         2823 non-null   object \n",
      " 5   STATUS            2823 non-null   object \n",
      " 6   QTR_ID            2823 non-null   int64  \n",
      " 7   MONTH_ID          2823 non-null   int64  \n",
      " 8   YEAR_ID           2823 non-null   int64  \n",
      " 9   PRODUCTLINE       2823 non-null   object \n",
      " 10  MSRP              2823 non-null   int64  \n",
      " 11  PRODUCTCODE       2823 non-null   object \n",
      " 12  CUSTOMERNAME      2823 non-null   object \n",
      " 13  PHONE             2823 non-null   object \n",
      " 14  ADDRESSLINE1      2823 non-null   object \n",
      " 15  ADDRESSLINE2      302 non-null    object \n",
      " 16  CITY              2823 non-null   object \n",
      " 17  STATE             1337 non-null   object \n",
      " 18  POSTALCODE        2747 non-null   object \n",
      " 19  COUNTRY           2823 non-null   object \n",
      " 20  TERRITORY         1749 non-null   object \n",
      " 21  CONTACTLASTNAME   2823 non-null   object \n",
      " 22  CONTACTFIRSTNAME  2823 non-null   object \n",
      " 23  DEALSIZE          2823 non-null   object \n",
      "dtypes: float64(2), int64(6), object(16)\n",
      "memory usage: 551.4+ KB\n"
     ]
    }
   ],
   "source": [
    "# Print dataset overview\n",
    "df.info()"
   ]
  },
  {
   "cell_type": "markdown",
   "id": "bd7996bf-b354-4c11-95d9-ce0ad89eb0e1",
   "metadata": {},
   "source": [
    " "
   ]
  },
  {
   "cell_type": "markdown",
   "id": "3a4bdfb8-5de4-4459-9932-d49abc6660dc",
   "metadata": {},
   "source": [
    "The dataset comprises 2823 entries across 24 columns, with complete data in 20 columns. However, ADDRESSLINE2,  STATE,  POSTALCODE, and TERRITORY columns have significant missing values, necessitating data imputation or handling strategies for analyses involving these variables.\n",
    "\n",
    "Next up, we will find out the percentage of missing entries for each column"
   ]
  },
  {
   "cell_type": "code",
   "execution_count": 4,
   "id": "22a171de-42b5-4ac8-82e1-9145715a19cd",
   "metadata": {},
   "outputs": [
    {
     "data": {
      "text/plain": [
       "QUANTITYORDERED      0.00\n",
       "PRICEEACH            0.00\n",
       "ORDERLINENUMBER      0.00\n",
       "SALES                0.00\n",
       "ORDERDATE            0.00\n",
       "STATUS               0.00\n",
       "QTR_ID               0.00\n",
       "MONTH_ID             0.00\n",
       "YEAR_ID              0.00\n",
       "PRODUCTLINE          0.00\n",
       "MSRP                 0.00\n",
       "PRODUCTCODE          0.00\n",
       "CUSTOMERNAME         0.00\n",
       "PHONE                0.00\n",
       "ADDRESSLINE1         0.00\n",
       "ADDRESSLINE2        89.30\n",
       "CITY                 0.00\n",
       "STATE               52.64\n",
       "POSTALCODE           2.69\n",
       "COUNTRY              0.00\n",
       "TERRITORY           38.04\n",
       "CONTACTLASTNAME      0.00\n",
       "CONTACTFIRSTNAME     0.00\n",
       "DEALSIZE             0.00\n",
       "dtype: float64"
      ]
     },
     "execution_count": 4,
     "metadata": {},
     "output_type": "execute_result"
    }
   ],
   "source": [
    "# prints % missing values\n",
    "(df.isnull().sum()/len(df) *100).round(2)"
   ]
  },
  {
   "cell_type": "markdown",
   "id": "2a345169-aaf4-404b-9938-0bfd38d956e2",
   "metadata": {},
   "source": [
    " "
   ]
  },
  {
   "cell_type": "markdown",
   "id": "e576a7c3-71aa-43db-9fd2-d5c8e34be2b4",
   "metadata": {},
   "source": [
    "Let's drop some features that add no significant value to our analysis. Thus some of the missing values features will be taken care along"
   ]
  },
  {
   "cell_type": "code",
   "execution_count": 5,
   "id": "cfc8141f-de37-4f3b-accf-a5b91a4ca0a6",
   "metadata": {},
   "outputs": [
    {
     "name": "stdout",
     "output_type": "stream",
     "text": [
      "<class 'pandas.core.frame.DataFrame'>\n",
      "Index: 2823 entries, 10107 to 10414\n",
      "Data columns (total 13 columns):\n",
      " #   Column           Non-Null Count  Dtype  \n",
      "---  ------           --------------  -----  \n",
      " 0   QUANTITYORDERED  2823 non-null   int64  \n",
      " 1   PRICEEACH        2823 non-null   float64\n",
      " 2   SALES            2823 non-null   float64\n",
      " 3   ORDERDATE        2823 non-null   object \n",
      " 4   QTR_ID           2823 non-null   int64  \n",
      " 5   MONTH_ID         2823 non-null   int64  \n",
      " 6   YEAR_ID          2823 non-null   int64  \n",
      " 7   PRODUCTLINE      2823 non-null   object \n",
      " 8   MSRP             2823 non-null   int64  \n",
      " 9   CUSTOMERNAME     2823 non-null   object \n",
      " 10  CITY             2823 non-null   object \n",
      " 11  COUNTRY          2823 non-null   object \n",
      " 12  DEALSIZE         2823 non-null   object \n",
      "dtypes: float64(2), int64(5), object(6)\n",
      "memory usage: 308.8+ KB\n"
     ]
    }
   ],
   "source": [
    "# drop out insignificant features\n",
    "df.drop(columns=['PHONE','STATUS','CONTACTFIRSTNAME', 'CONTACTLASTNAME','PRODUCTCODE','STATE','TERRITORY','POSTALCODE','ORDERLINENUMBER',\n",
    "                'ADDRESSLINE1','ADDRESSLINE2'],inplace=True)\n",
    "# print dataset overview\n",
    "df.info()\n"
   ]
  },
  {
   "cell_type": "markdown",
   "id": "70f99082-fcb4-4a45-ab2b-bcc02f20a429",
   "metadata": {},
   "source": [
    " "
   ]
  },
  {
   "cell_type": "markdown",
   "id": "df6114d7-7360-46b8-a3fc-7f5fdc575320",
   "metadata": {},
   "source": [
    "Change the datatype of ORDERDATE to datetime "
   ]
  },
  {
   "cell_type": "code",
   "execution_count": 6,
   "id": "e15504e7-6c3a-4240-92c3-465affc17078",
   "metadata": {},
   "outputs": [
    {
     "name": "stdout",
     "output_type": "stream",
     "text": [
      "<class 'pandas.core.frame.DataFrame'>\n",
      "Index: 2823 entries, 10107 to 10414\n",
      "Data columns (total 13 columns):\n",
      " #   Column           Non-Null Count  Dtype         \n",
      "---  ------           --------------  -----         \n",
      " 0   QUANTITYORDERED  2823 non-null   int64         \n",
      " 1   PRICEEACH        2823 non-null   float64       \n",
      " 2   SALES            2823 non-null   float64       \n",
      " 3   ORDERDATE        2823 non-null   datetime64[ns]\n",
      " 4   QTR_ID           2823 non-null   int64         \n",
      " 5   MONTH_ID         2823 non-null   int64         \n",
      " 6   YEAR_ID          2823 non-null   int64         \n",
      " 7   PRODUCTLINE      2823 non-null   object        \n",
      " 8   MSRP             2823 non-null   int64         \n",
      " 9   CUSTOMERNAME     2823 non-null   object        \n",
      " 10  CITY             2823 non-null   object        \n",
      " 11  COUNTRY          2823 non-null   object        \n",
      " 12  DEALSIZE         2823 non-null   object        \n",
      "dtypes: datetime64[ns](1), float64(2), int64(5), object(5)\n",
      "memory usage: 308.8+ KB\n"
     ]
    }
   ],
   "source": [
    "# change to datetime\n",
    "df['ORDERDATE']=pd.to_datetime(df['ORDERDATE'])\n",
    "\n",
    "# reprint the dataset overview\n",
    "df.info()"
   ]
  },
  {
   "cell_type": "code",
   "execution_count": 7,
   "id": "c6fd957a-2b2c-457b-8a3c-611bb4db2c3d",
   "metadata": {},
   "outputs": [
    {
     "data": {
      "text/html": [
       "<div>\n",
       "<style scoped>\n",
       "    .dataframe tbody tr th:only-of-type {\n",
       "        vertical-align: middle;\n",
       "    }\n",
       "\n",
       "    .dataframe tbody tr th {\n",
       "        vertical-align: top;\n",
       "    }\n",
       "\n",
       "    .dataframe thead th {\n",
       "        text-align: right;\n",
       "    }\n",
       "</style>\n",
       "<table border=\"1\" class=\"dataframe\">\n",
       "  <thead>\n",
       "    <tr style=\"text-align: right;\">\n",
       "      <th></th>\n",
       "      <th>count</th>\n",
       "      <th>mean</th>\n",
       "      <th>std</th>\n",
       "      <th>min</th>\n",
       "      <th>25%</th>\n",
       "      <th>50%</th>\n",
       "      <th>75%</th>\n",
       "      <th>max</th>\n",
       "    </tr>\n",
       "  </thead>\n",
       "  <tbody>\n",
       "    <tr>\n",
       "      <th>QUANTITYORDERED</th>\n",
       "      <td>2823.0</td>\n",
       "      <td>35.092809</td>\n",
       "      <td>9.741443</td>\n",
       "      <td>6.00</td>\n",
       "      <td>27.00</td>\n",
       "      <td>35.0</td>\n",
       "      <td>43.0</td>\n",
       "      <td>97.0</td>\n",
       "    </tr>\n",
       "    <tr>\n",
       "      <th>PRICEEACH</th>\n",
       "      <td>2823.0</td>\n",
       "      <td>83.658544</td>\n",
       "      <td>20.174277</td>\n",
       "      <td>26.88</td>\n",
       "      <td>68.86</td>\n",
       "      <td>95.7</td>\n",
       "      <td>100.0</td>\n",
       "      <td>100.0</td>\n",
       "    </tr>\n",
       "    <tr>\n",
       "      <th>SALES</th>\n",
       "      <td>2823.0</td>\n",
       "      <td>3553.889072</td>\n",
       "      <td>1841.865106</td>\n",
       "      <td>482.13</td>\n",
       "      <td>2203.43</td>\n",
       "      <td>3184.8</td>\n",
       "      <td>4508.0</td>\n",
       "      <td>14082.8</td>\n",
       "    </tr>\n",
       "    <tr>\n",
       "      <th>MSRP</th>\n",
       "      <td>2823.0</td>\n",
       "      <td>100.715551</td>\n",
       "      <td>40.187912</td>\n",
       "      <td>33.00</td>\n",
       "      <td>68.00</td>\n",
       "      <td>99.0</td>\n",
       "      <td>124.0</td>\n",
       "      <td>214.0</td>\n",
       "    </tr>\n",
       "  </tbody>\n",
       "</table>\n",
       "</div>"
      ],
      "text/plain": [
       "                  count         mean          std     min      25%     50%  \\\n",
       "QUANTITYORDERED  2823.0    35.092809     9.741443    6.00    27.00    35.0   \n",
       "PRICEEACH        2823.0    83.658544    20.174277   26.88    68.86    95.7   \n",
       "SALES            2823.0  3553.889072  1841.865106  482.13  2203.43  3184.8   \n",
       "MSRP             2823.0   100.715551    40.187912   33.00    68.00    99.0   \n",
       "\n",
       "                    75%      max  \n",
       "QUANTITYORDERED    43.0     97.0  \n",
       "PRICEEACH         100.0    100.0  \n",
       "SALES            4508.0  14082.8  \n",
       "MSRP              124.0    214.0  "
      ]
     },
     "execution_count": 7,
     "metadata": {},
     "output_type": "execute_result"
    }
   ],
   "source": [
    "#  summary statistics of the key quantitative variables\n",
    "data = ['QUANTITYORDERED','PRICEEACH','SALES','MSRP']\n",
    "df[data].describe().T"
   ]
  },
  {
   "cell_type": "markdown",
   "id": "09fc746c-495e-4fef-9308-09ea64fd7850",
   "metadata": {},
   "source": [
    " "
   ]
  },
  {
   "cell_type": "markdown",
   "id": "7dcb79ed-539f-4902-8fa5-3f6e23bc28b4",
   "metadata": {},
   "source": [
    "#### Q1. Sales Trend: Monthly "
   ]
  },
  {
   "cell_type": "code",
   "execution_count": 8,
   "id": "575def6b-8341-426d-baaf-8ac8f4e354d1",
   "metadata": {},
   "outputs": [
    {
     "data": {
      "text/plain": [
       "YEAR_ID\n",
       "2003    12\n",
       "2004    12\n",
       "2005     5\n",
       "Name: MONTH_ID, dtype: int64"
      ]
     },
     "execution_count": 8,
     "metadata": {},
     "output_type": "execute_result"
    }
   ],
   "source": [
    "# check the numbers of month per year\n",
    "df.groupby('YEAR_ID')['MONTH_ID'].max()"
   ]
  },
  {
   "cell_type": "markdown",
   "id": "8b32bb63-2f2c-425d-b5d5-00745c453b12",
   "metadata": {},
   "source": [
    "We found out that 2005 has only five month of sales records. Thus, let's visualize the monthly sales throughout the years"
   ]
  },
  {
   "cell_type": "code",
   "execution_count": 9,
   "id": "b21cb7e2-0cad-4f7c-90b0-4b84f7757202",
   "metadata": {},
   "outputs": [],
   "source": [
    "# change the ORDERDATE column to month and datatype to string\n",
    "df['Month'] = df['ORDERDATE'].dt.to_period('M').astype(str)\n",
    "\n",
    "# convert the SALES column to million\n",
    "df['Sales (million)']= df['SALES']/1000000"
   ]
  },
  {
   "cell_type": "code",
   "execution_count": 10,
   "id": "c557a422-7511-47c6-8c61-c6464477315f",
   "metadata": {},
   "outputs": [
    {
     "data": {
      "text/html": [
       "<div>\n",
       "<style scoped>\n",
       "    .dataframe tbody tr th:only-of-type {\n",
       "        vertical-align: middle;\n",
       "    }\n",
       "\n",
       "    .dataframe tbody tr th {\n",
       "        vertical-align: top;\n",
       "    }\n",
       "\n",
       "    .dataframe thead th {\n",
       "        text-align: right;\n",
       "    }\n",
       "</style>\n",
       "<table border=\"1\" class=\"dataframe\">\n",
       "  <thead>\n",
       "    <tr style=\"text-align: right;\">\n",
       "      <th></th>\n",
       "      <th>Month</th>\n",
       "      <th>Sales (million)</th>\n",
       "    </tr>\n",
       "  </thead>\n",
       "  <tbody>\n",
       "    <tr>\n",
       "      <th>0</th>\n",
       "      <td>2003-01</td>\n",
       "      <td>0.129754</td>\n",
       "    </tr>\n",
       "    <tr>\n",
       "      <th>1</th>\n",
       "      <td>2003-02</td>\n",
       "      <td>0.140836</td>\n",
       "    </tr>\n",
       "    <tr>\n",
       "      <th>2</th>\n",
       "      <td>2003-03</td>\n",
       "      <td>0.174505</td>\n",
       "    </tr>\n",
       "    <tr>\n",
       "      <th>3</th>\n",
       "      <td>2003-04</td>\n",
       "      <td>0.201610</td>\n",
       "    </tr>\n",
       "    <tr>\n",
       "      <th>4</th>\n",
       "      <td>2003-05</td>\n",
       "      <td>0.192673</td>\n",
       "    </tr>\n",
       "    <tr>\n",
       "      <th>5</th>\n",
       "      <td>2003-06</td>\n",
       "      <td>0.168083</td>\n",
       "    </tr>\n",
       "    <tr>\n",
       "      <th>6</th>\n",
       "      <td>2003-07</td>\n",
       "      <td>0.187732</td>\n",
       "    </tr>\n",
       "    <tr>\n",
       "      <th>7</th>\n",
       "      <td>2003-08</td>\n",
       "      <td>0.197809</td>\n",
       "    </tr>\n",
       "    <tr>\n",
       "      <th>8</th>\n",
       "      <td>2003-09</td>\n",
       "      <td>0.263973</td>\n",
       "    </tr>\n",
       "    <tr>\n",
       "      <th>9</th>\n",
       "      <td>2003-10</td>\n",
       "      <td>0.568291</td>\n",
       "    </tr>\n",
       "  </tbody>\n",
       "</table>\n",
       "</div>"
      ],
      "text/plain": [
       "     Month  Sales (million)\n",
       "0  2003-01         0.129754\n",
       "1  2003-02         0.140836\n",
       "2  2003-03         0.174505\n",
       "3  2003-04         0.201610\n",
       "4  2003-05         0.192673\n",
       "5  2003-06         0.168083\n",
       "6  2003-07         0.187732\n",
       "7  2003-08         0.197809\n",
       "8  2003-09         0.263973\n",
       "9  2003-10         0.568291"
      ]
     },
     "execution_count": 10,
     "metadata": {},
     "output_type": "execute_result"
    }
   ],
   "source": [
    "# print the total sales per month for each year\n",
    "Total_sales=df.groupby('Month')[['Sales (million)']].sum().reset_index()\n",
    "Total_sales.head(10)"
   ]
  },
  {
   "cell_type": "code",
   "execution_count": 11,
   "id": "b5ad5a1f-2a8b-48e4-8a78-b416bd0ec097",
   "metadata": {},
   "outputs": [
    {
     "data": {
      "image/png": "[encoded data removed]",
      "text/plain": [
       "<Figure size 1200x600 with 1 Axes>"
      ]
     },
     "metadata": {},
     "output_type": "display_data"
    }
   ],
   "source": [
    "# visualize each monthly sales per year\n",
    "plt.figure(figsize=(12,6))\n",
    "\n",
    "sns.lineplot(x='Month',y='Sales (million)',data=Total_sales, marker='o')\n",
    "\n",
    "plt.title('Total Sales For each Month')\n",
    "plt.xticks(rotation=45)\n",
    "plt.grid(True)\n",
    "\n",
    "# label each sales point per month\n",
    "for x, y in Total_sales.iterrows():\n",
    "    plt.text(y['Month'], y['Sales (million)'], f'{y[\"Sales (million)\"]:.2f}',  ha='center', va='bottom')"
   ]
  },
  {
   "cell_type": "markdown",
   "id": "9add58f3-78c8-4f06-8f85-dcfa932c5e97",
   "metadata": {},
   "source": [
    "We see the sales increase every October and a peak in November for the two years. You can give several reasons for that, however."
   ]
  },
  {
   "cell_type": "markdown",
   "id": "74c60449-ff01-4b20-8b8d-bec3c7cbbe12",
   "metadata": {},
   "source": [
    "#### Q2. Product performance: Top selling products and price impact"
   ]
  },
  {
   "cell_type": "markdown",
   "id": "0d134042-b36a-4fbe-9ab4-1199808e3f82",
   "metadata": {},
   "source": [
    "Let's identify the product line that generate the most revenue"
   ]
  },
  {
   "cell_type": "code",
   "execution_count": 12,
   "id": "9ecefff6-ebdc-4c3d-9529-8616ee771369",
   "metadata": {},
   "outputs": [
    {
     "data": {
      "text/html": [
       "<div>\n",
       "<style scoped>\n",
       "    .dataframe tbody tr th:only-of-type {\n",
       "        vertical-align: middle;\n",
       "    }\n",
       "\n",
       "    .dataframe tbody tr th {\n",
       "        vertical-align: top;\n",
       "    }\n",
       "\n",
       "    .dataframe thead th {\n",
       "        text-align: right;\n",
       "    }\n",
       "</style>\n",
       "<table border=\"1\" class=\"dataframe\">\n",
       "  <thead>\n",
       "    <tr style=\"text-align: right;\">\n",
       "      <th></th>\n",
       "      <th>PRODUCTLINE</th>\n",
       "      <th>SALES</th>\n",
       "    </tr>\n",
       "  </thead>\n",
       "  <tbody>\n",
       "    <tr>\n",
       "      <th>0</th>\n",
       "      <td>Classic Cars</td>\n",
       "      <td>3919615.66</td>\n",
       "    </tr>\n",
       "    <tr>\n",
       "      <th>1</th>\n",
       "      <td>Motorcycles</td>\n",
       "      <td>1166388.34</td>\n",
       "    </tr>\n",
       "    <tr>\n",
       "      <th>2</th>\n",
       "      <td>Planes</td>\n",
       "      <td>975003.57</td>\n",
       "    </tr>\n",
       "    <tr>\n",
       "      <th>3</th>\n",
       "      <td>Ships</td>\n",
       "      <td>714437.13</td>\n",
       "    </tr>\n",
       "    <tr>\n",
       "      <th>4</th>\n",
       "      <td>Trains</td>\n",
       "      <td>226243.47</td>\n",
       "    </tr>\n",
       "    <tr>\n",
       "      <th>5</th>\n",
       "      <td>Trucks and Buses</td>\n",
       "      <td>1127789.84</td>\n",
       "    </tr>\n",
       "    <tr>\n",
       "      <th>6</th>\n",
       "      <td>Vintage Cars</td>\n",
       "      <td>1903150.84</td>\n",
       "    </tr>\n",
       "  </tbody>\n",
       "</table>\n",
       "</div>"
      ],
      "text/plain": [
       "        PRODUCTLINE       SALES\n",
       "0      Classic Cars  3919615.66\n",
       "1       Motorcycles  1166388.34\n",
       "2            Planes   975003.57\n",
       "3             Ships   714437.13\n",
       "4            Trains   226243.47\n",
       "5  Trucks and Buses  1127789.84\n",
       "6      Vintage Cars  1903150.84"
      ]
     },
     "execution_count": 12,
     "metadata": {},
     "output_type": "execute_result"
    }
   ],
   "source": [
    "top_prod= df.groupby('PRODUCTLINE')['SALES'].sum().reset_index()\n",
    "top_prod"
   ]
  },
  {
   "cell_type": "code",
   "execution_count": 13,
   "id": "67d7433c-2e50-4203-ace7-5b706a2ab4ff",
   "metadata": {},
   "outputs": [
    {
     "data": {
      "image/png": "[encoded data removed]",
      "text/plain": [
       "<Figure size 1000x600 with 1 Axes>"
      ]
     },
     "metadata": {},
     "output_type": "display_data"
    }
   ],
   "source": [
    "plt.figure(figsize=(10,6))\n",
    "\n",
    "ax=sns.barplot(x='PRODUCTLINE',y='SALES',data=top_prod, hue='PRODUCTLINE')\n",
    "\n",
    "plt.title('Top Selling Product Over time')\n",
    "plt.ylabel('SALES (Million)')\n",
    "plt.show()"
   ]
  },
  {
   "cell_type": "markdown",
   "id": "e7a195e4-4a5d-4d82-825f-fbe0b2bd7528",
   "metadata": {},
   "source": [
    "- #### Price Impact"
   ]
  },
  {
   "cell_type": "markdown",
   "id": "3b3a7ab7-3beb-49fc-99ee-e9ba94ff263e",
   "metadata": {},
   "source": [
    "Let's analyze how the PRICEEACH affects the QUANTITYORDERED and SALES."
   ]
  },
  {
   "cell_type": "code",
   "execution_count": 14,
   "id": "8f9c8139-c99f-4262-bb06-2d93badd46aa",
   "metadata": {},
   "outputs": [
    {
     "data": {
      "text/html": [
       "<div>\n",
       "<style scoped>\n",
       "    .dataframe tbody tr th:only-of-type {\n",
       "        vertical-align: middle;\n",
       "    }\n",
       "\n",
       "    .dataframe tbody tr th {\n",
       "        vertical-align: top;\n",
       "    }\n",
       "\n",
       "    .dataframe thead th {\n",
       "        text-align: right;\n",
       "    }\n",
       "</style>\n",
       "<table border=\"1\" class=\"dataframe\">\n",
       "  <thead>\n",
       "    <tr style=\"text-align: right;\">\n",
       "      <th></th>\n",
       "      <th>PRODUCTLINE</th>\n",
       "      <th>PRICEEACH</th>\n",
       "      <th>QUANTITYORDERED</th>\n",
       "      <th>SALES</th>\n",
       "    </tr>\n",
       "  </thead>\n",
       "  <tbody>\n",
       "    <tr>\n",
       "      <th>0</th>\n",
       "      <td>Classic Cars</td>\n",
       "      <td>28.29</td>\n",
       "      <td>32</td>\n",
       "      <td>905.28</td>\n",
       "    </tr>\n",
       "    <tr>\n",
       "      <th>1</th>\n",
       "      <td>Classic Cars</td>\n",
       "      <td>29.70</td>\n",
       "      <td>42</td>\n",
       "      <td>1247.40</td>\n",
       "    </tr>\n",
       "    <tr>\n",
       "      <th>2</th>\n",
       "      <td>Classic Cars</td>\n",
       "      <td>30.06</td>\n",
       "      <td>63</td>\n",
       "      <td>1893.78</td>\n",
       "    </tr>\n",
       "    <tr>\n",
       "      <th>3</th>\n",
       "      <td>Classic Cars</td>\n",
       "      <td>30.59</td>\n",
       "      <td>30</td>\n",
       "      <td>917.70</td>\n",
       "    </tr>\n",
       "    <tr>\n",
       "      <th>4</th>\n",
       "      <td>Classic Cars</td>\n",
       "      <td>30.96</td>\n",
       "      <td>39</td>\n",
       "      <td>1207.44</td>\n",
       "    </tr>\n",
       "    <tr>\n",
       "      <th>...</th>\n",
       "      <td>...</td>\n",
       "      <td>...</td>\n",
       "      <td>...</td>\n",
       "      <td>...</td>\n",
       "    </tr>\n",
       "    <tr>\n",
       "      <th>1155</th>\n",
       "      <td>Vintage Cars</td>\n",
       "      <td>98.99</td>\n",
       "      <td>31</td>\n",
       "      <td>3068.69</td>\n",
       "    </tr>\n",
       "    <tr>\n",
       "      <th>1156</th>\n",
       "      <td>Vintage Cars</td>\n",
       "      <td>99.52</td>\n",
       "      <td>27</td>\n",
       "      <td>2687.04</td>\n",
       "    </tr>\n",
       "    <tr>\n",
       "      <th>1157</th>\n",
       "      <td>Vintage Cars</td>\n",
       "      <td>99.66</td>\n",
       "      <td>33</td>\n",
       "      <td>3288.78</td>\n",
       "    </tr>\n",
       "    <tr>\n",
       "      <th>1158</th>\n",
       "      <td>Vintage Cars</td>\n",
       "      <td>99.69</td>\n",
       "      <td>29</td>\n",
       "      <td>2891.01</td>\n",
       "    </tr>\n",
       "    <tr>\n",
       "      <th>1159</th>\n",
       "      <td>Vintage Cars</td>\n",
       "      <td>100.00</td>\n",
       "      <td>7613</td>\n",
       "      <td>1020238.79</td>\n",
       "    </tr>\n",
       "  </tbody>\n",
       "</table>\n",
       "<p>1160 rows × 4 columns</p>\n",
       "</div>"
      ],
      "text/plain": [
       "       PRODUCTLINE  PRICEEACH  QUANTITYORDERED       SALES\n",
       "0     Classic Cars      28.29               32      905.28\n",
       "1     Classic Cars      29.70               42     1247.40\n",
       "2     Classic Cars      30.06               63     1893.78\n",
       "3     Classic Cars      30.59               30      917.70\n",
       "4     Classic Cars      30.96               39     1207.44\n",
       "...            ...        ...              ...         ...\n",
       "1155  Vintage Cars      98.99               31     3068.69\n",
       "1156  Vintage Cars      99.52               27     2687.04\n",
       "1157  Vintage Cars      99.66               33     3288.78\n",
       "1158  Vintage Cars      99.69               29     2891.01\n",
       "1159  Vintage Cars     100.00             7613  1020238.79\n",
       "\n",
       "[1160 rows x 4 columns]"
      ]
     },
     "execution_count": 14,
     "metadata": {},
     "output_type": "execute_result"
    }
   ],
   "source": [
    "df.groupby(['PRODUCTLINE','PRICEEACH']).agg({'QUANTITYORDERED':'sum','SALES':'sum'}).reset_index()"
   ]
  },
  {
   "cell_type": "code",
   "execution_count": 15,
   "id": "c29206ba-7560-43f8-b3c8-1f256e7a14ab",
   "metadata": {},
   "outputs": [
    {
     "data": {
      "image/png": "[encoded data removed]",
      "text/plain": [
       "<Figure size 640x480 with 1 Axes>"
      ]
     },
     "metadata": {},
     "output_type": "display_data"
    },
    {
     "name": "stdout",
     "output_type": "stream",
     "text": [
      "The correlation between each product and sales is: 0.66\n"
     ]
    }
   ],
   "source": [
    "# visualize the correlation between each price and sales\n",
    "plt.scatter(df['PRICEEACH'], df['SALES'])\n",
    "plt.title('Price Distribution')\n",
    "plt.xlabel('Price Each')\n",
    "plt.ylabel('Sales')\n",
    "plt.show()\n",
    "\n",
    "# correlation \n",
    "corr=df['PRICEEACH'].corr(df['SALES'])\n",
    "print(f'The correlation between each product and sales is: {corr:.2f}')"
   ]
  },
  {
   "cell_type": "markdown",
   "id": "1ce57201-5b5f-482c-bef7-e1bbb995d500",
   "metadata": {},
   "source": [
    "The price of each product is moderately correlated with the sales. This means that despite the high price of some the products, the quantity ordered is still relatively high, leading to higher sales. Also, majority of the order recieved are those of $100 each."
   ]
  },
  {
   "cell_type": "markdown",
   "id": "a66a4229-1111-4dee-96c8-429503aa4b17",
   "metadata": {},
   "source": [
    "#### Q3. Geographical Insights: Regional Performance "
   ]
  },
  {
   "cell_type": "code",
   "execution_count": 47,
   "id": "58194632-a768-4955-8ee3-28037315620a",
   "metadata": {
    "scrolled": true
   },
   "outputs": [
    {
     "data": {
      "text/html": [
       "<div>\n",
       "<style scoped>\n",
       "    .dataframe tbody tr th:only-of-type {\n",
       "        vertical-align: middle;\n",
       "    }\n",
       "\n",
       "    .dataframe tbody tr th {\n",
       "        vertical-align: top;\n",
       "    }\n",
       "\n",
       "    .dataframe thead th {\n",
       "        text-align: right;\n",
       "    }\n",
       "</style>\n",
       "<table border=\"1\" class=\"dataframe\">\n",
       "  <thead>\n",
       "    <tr style=\"text-align: right;\">\n",
       "      <th></th>\n",
       "      <th>COUNTRY</th>\n",
       "      <th>SALES</th>\n",
       "      <th>iso_alpha</th>\n",
       "    </tr>\n",
       "  </thead>\n",
       "  <tbody>\n",
       "    <tr>\n",
       "      <th>18</th>\n",
       "      <td>USA</td>\n",
       "      <td>3627982.83</td>\n",
       "      <td>AUS</td>\n",
       "    </tr>\n",
       "    <tr>\n",
       "      <th>14</th>\n",
       "      <td>Spain</td>\n",
       "      <td>1215686.92</td>\n",
       "      <td>AUT</td>\n",
       "    </tr>\n",
       "    <tr>\n",
       "      <th>6</th>\n",
       "      <td>France</td>\n",
       "      <td>1110916.52</td>\n",
       "      <td>BEL</td>\n",
       "    </tr>\n",
       "    <tr>\n",
       "      <th>0</th>\n",
       "      <td>Australia</td>\n",
       "      <td>630623.10</td>\n",
       "      <td>CAN</td>\n",
       "    </tr>\n",
       "    <tr>\n",
       "      <th>17</th>\n",
       "      <td>UK</td>\n",
       "      <td>478880.46</td>\n",
       "      <td>DNK</td>\n",
       "    </tr>\n",
       "    <tr>\n",
       "      <th>9</th>\n",
       "      <td>Italy</td>\n",
       "      <td>374674.31</td>\n",
       "      <td>FIN</td>\n",
       "    </tr>\n",
       "    <tr>\n",
       "      <th>5</th>\n",
       "      <td>Finland</td>\n",
       "      <td>329581.91</td>\n",
       "      <td>FRA</td>\n",
       "    </tr>\n",
       "    <tr>\n",
       "      <th>11</th>\n",
       "      <td>Norway</td>\n",
       "      <td>307463.70</td>\n",
       "      <td>DEU</td>\n",
       "    </tr>\n",
       "    <tr>\n",
       "      <th>13</th>\n",
       "      <td>Singapore</td>\n",
       "      <td>288488.41</td>\n",
       "      <td>IRL</td>\n",
       "    </tr>\n",
       "    <tr>\n",
       "      <th>4</th>\n",
       "      <td>Denmark</td>\n",
       "      <td>245637.15</td>\n",
       "      <td>ITA</td>\n",
       "    </tr>\n",
       "    <tr>\n",
       "      <th>3</th>\n",
       "      <td>Canada</td>\n",
       "      <td>224078.56</td>\n",
       "      <td>JPN</td>\n",
       "    </tr>\n",
       "    <tr>\n",
       "      <th>7</th>\n",
       "      <td>Germany</td>\n",
       "      <td>220472.09</td>\n",
       "      <td>NOR</td>\n",
       "    </tr>\n",
       "    <tr>\n",
       "      <th>15</th>\n",
       "      <td>Sweden</td>\n",
       "      <td>210014.21</td>\n",
       "      <td>PHL</td>\n",
       "    </tr>\n",
       "    <tr>\n",
       "      <th>1</th>\n",
       "      <td>Austria</td>\n",
       "      <td>202062.53</td>\n",
       "      <td>SGP</td>\n",
       "    </tr>\n",
       "    <tr>\n",
       "      <th>10</th>\n",
       "      <td>Japan</td>\n",
       "      <td>188167.81</td>\n",
       "      <td>ESP</td>\n",
       "    </tr>\n",
       "    <tr>\n",
       "      <th>16</th>\n",
       "      <td>Switzerland</td>\n",
       "      <td>117713.56</td>\n",
       "      <td>SWE</td>\n",
       "    </tr>\n",
       "    <tr>\n",
       "      <th>2</th>\n",
       "      <td>Belgium</td>\n",
       "      <td>108412.62</td>\n",
       "      <td>SWIZ</td>\n",
       "    </tr>\n",
       "    <tr>\n",
       "      <th>12</th>\n",
       "      <td>Philippines</td>\n",
       "      <td>94015.73</td>\n",
       "      <td>UK</td>\n",
       "    </tr>\n",
       "    <tr>\n",
       "      <th>8</th>\n",
       "      <td>Ireland</td>\n",
       "      <td>57756.43</td>\n",
       "      <td>USA</td>\n",
       "    </tr>\n",
       "  </tbody>\n",
       "</table>\n",
       "</div>"
      ],
      "text/plain": [
       "        COUNTRY       SALES iso_alpha\n",
       "18          USA  3627982.83       AUS\n",
       "14        Spain  1215686.92       AUT\n",
       "6        France  1110916.52       BEL\n",
       "0     Australia   630623.10       CAN\n",
       "17           UK   478880.46       DNK\n",
       "9         Italy   374674.31       FIN\n",
       "5       Finland   329581.91       FRA\n",
       "11       Norway   307463.70       DEU\n",
       "13    Singapore   288488.41       IRL\n",
       "4       Denmark   245637.15       ITA\n",
       "3        Canada   224078.56       JPN\n",
       "7       Germany   220472.09       NOR\n",
       "15       Sweden   210014.21       PHL\n",
       "1       Austria   202062.53       SGP\n",
       "10        Japan   188167.81       ESP\n",
       "16  Switzerland   117713.56       SWE\n",
       "2       Belgium   108412.62      SWIZ\n",
       "12  Philippines    94015.73        UK\n",
       "8       Ireland    57756.43       USA"
      ]
     },
     "execution_count": 47,
     "metadata": {},
     "output_type": "execute_result"
    }
   ],
   "source": [
    "# \n",
    "country = df.groupby(['COUNTRY'])['SALES'].sum().reset_index().sort_values('SALES', ascending=False)\n",
    "country_short = ['AUS','AUT','BEL','CAN','DNK','FIN','FRA','DEU','IRL','ITA','JPN','NOR','PHL','SGP','ESP','SWE','SWIZ','UK','USA']\n",
    "country['iso_alpha'] = country_short\n",
    "country"
   ]
  },
  {
   "cell_type": "code",
   "execution_count": 46,
   "id": "66b40bb5-fd0f-42d2-ae65-76c0f911d84e",
   "metadata": {},
   "outputs": [
    {
     "data": {
      "application/vnd.plotly.v1+json": {
       "config": {
        "plotlyServerURL": "https://plot.ly"
       },
       "data": [
        {
         "coloraxis": "coloraxis",
         "geo": "geo",
         "hovertemplate": "<b>%{hovertext}</b><br><br>iso_alpha=%{location}<br>SALES=%{z}<extra></extra>",
         "hovertext": [
          "Australia",
          "Austria",
          "Belgium",
          "Canada",
          "Denmark",
          "Finland",
          "France",
          "Germany",
          "Ireland",
          "Italy",
          "Japan",
          "Norway",
          "Philippines",
          "Singapore",
          "Spain",
          "Sweden",
          "Switzerland",
          "UK",
          "USA"
         ],
         "locations": [
          "AUS",
          "AUT",
          "BEL",
          "CAN",
          "DNK",
          "FIN",
          "FRA",
          "DEU",
          "IRL",
          "ITA",
          "JPN",
          "NOR",
          "PHL",
          "SGP",
          "ESP",
          "SWE",
          "SWIZ",
          "UK",
          "USA"
         ],
         "name": "",
         "type": "choropleth",
         "z": [
          630623.1,
          202062.53,
          108412.62,
          224078.56,
          245637.15,
          329581.91,
          1110916.52,
          220472.09,
          57756.43,
          374674.31,
          188167.81,
          307463.7,
          94015.73,
          288488.41,
          1215686.92,
          210014.21,
          117713.56,
          478880.46,
          3627982.83
         ]
        }
       ],
       "layout": {
        "coloraxis": {
         "colorbar": {
          "title": {
           "text": "SALES"
          }
         },
         "colorscale": [
          [
           0,
           "#0d0887"
          ],
          [
           0.1111111111111111,
           "#46039f"
          ],
          [
           0.2222222222222222,
           "#7201a8"
          ],
          [
           0.3333333333333333,
           "#9c179e"
          ],
          [
           0.4444444444444444,
           "#bd3786"
          ],
          [
           0.5555555555555556,
           "#d8576b"
          ],
          [
           0.6666666666666666,
           "#ed7953"
          ],
          [
           0.7777777777777778,
           "#fb9f3a"
          ],
          [
           0.8888888888888888,
           "#fdca26"
          ],
          [
           1,
           "#f0f921"
          ]
         ]
        },
        "geo": {
         "center": {},
         "domain": {
          "x": [
           0,
           1
          ],
          "y": [
           0,
           1
          ]
         }
        },
        "height": 500,
        "legend": {
         "tracegroupgap": 0
        },
        "template": {
         "data": {
          "bar": [
           {
            "error_x": {
             "color": "#2a3f5f"
            },
            "error_y": {
             "color": "#2a3f5f"
            },
            "marker": {
             "line": {
              "color": "#E5ECF6",
              "width": 0.5
             },
             "pattern": {
              "fillmode": "overlay",
              "size": 10,
              "solidity": 0.2
             }
            },
            "type": "bar"
           }
          ],
          "barpolar": [
           {
            "marker": {
             "line": {
              "color": "#E5ECF6",
              "width": 0.5
             },
             "pattern": {
              "fillmode": "overlay",
              "size": 10,
              "solidity": 0.2
             }
            },
            "type": "barpolar"
           }
          ],
          "carpet": [
           {
            "aaxis": {
             "endlinecolor": "#2a3f5f",
             "gridcolor": "white",
             "linecolor": "white",
             "minorgridcolor": "white",
             "startlinecolor": "#2a3f5f"
            },
            "baxis": {
             "endlinecolor": "#2a3f5f",
             "gridcolor": "white",
             "linecolor": "white",
             "minorgridcolor": "white",
             "startlinecolor": "#2a3f5f"
            },
            "type": "carpet"
           }
          ],
          "choropleth": [
           {
            "colorbar": {
             "outlinewidth": 0,
             "ticks": ""
            },
            "type": "choropleth"
           }
          ],
          "contour": [
           {
            "colorbar": {
             "outlinewidth": 0,
             "ticks": ""
            },
            "colorscale": [
             [
              0,
              "#0d0887"
             ],
             [
              0.1111111111111111,
              "#46039f"
             ],
             [
              0.2222222222222222,
              "#7201a8"
             ],
             [
              0.3333333333333333,
              "#9c179e"
             ],
             [
              0.4444444444444444,
              "#bd3786"
             ],
             [
              0.5555555555555556,
              "#d8576b"
             ],
             [
              0.6666666666666666,
              "#ed7953"
             ],
             [
              0.7777777777777778,
              "#fb9f3a"
             ],
             [
              0.8888888888888888,
              "#fdca26"
             ],
             [
              1,
              "#f0f921"
             ]
            ],
            "type": "contour"
           }
          ],
          "contourcarpet": [
           {
            "colorbar": {
             "outlinewidth": 0,
             "ticks": ""
            },
            "type": "contourcarpet"
           }
          ],
          "heatmap": [
           {
            "colorbar": {
             "outlinewidth": 0,
             "ticks": ""
            },
            "colorscale": [
             [
              0,
              "#0d0887"
             ],
             [
              0.1111111111111111,
              "#46039f"
             ],
             [
              0.2222222222222222,
              "#7201a8"
             ],
             [
              0.3333333333333333,
              "#9c179e"
             ],
             [
              0.4444444444444444,
              "#bd3786"
             ],
             [
              0.5555555555555556,
              "#d8576b"
             ],
             [
              0.6666666666666666,
              "#ed7953"
             ],
             [
              0.7777777777777778,
              "#fb9f3a"
             ],
             [
              0.8888888888888888,
              "#fdca26"
             ],
             [
              1,
              "#f0f921"
             ]
            ],
            "type": "heatmap"
           }
          ],
          "heatmapgl": [
           {
            "colorbar": {
             "outlinewidth": 0,
             "ticks": ""
            },
            "colorscale": [
             [
              0,
              "#0d0887"
             ],
             [
              0.1111111111111111,
              "#46039f"
             ],
             [
              0.2222222222222222,
              "#7201a8"
             ],
             [
              0.3333333333333333,
              "#9c179e"
             ],
             [
              0.4444444444444444,
              "#bd3786"
             ],
             [
              0.5555555555555556,
              "#d8576b"
             ],
             [
              0.6666666666666666,
              "#ed7953"
             ],
             [
              0.7777777777777778,
              "#fb9f3a"
             ],
             [
              0.8888888888888888,
              "#fdca26"
             ],
             [
              1,
              "#f0f921"
             ]
            ],
            "type": "heatmapgl"
           }
          ],
          "histogram": [
           {
            "marker": {
             "pattern": {
              "fillmode": "overlay",
              "size": 10,
              "solidity": 0.2
             }
            },
            "type": "histogram"
           }
          ],
          "histogram2d": [
           {
            "colorbar": {
             "outlinewidth": 0,
             "ticks": ""
            },
            "colorscale": [
             [
              0,
              "#0d0887"
             ],
             [
              0.1111111111111111,
              "#46039f"
             ],
             [
              0.2222222222222222,
              "#7201a8"
             ],
             [
              0.3333333333333333,
              "#9c179e"
             ],
             [
              0.4444444444444444,
              "#bd3786"
             ],
             [
              0.5555555555555556,
              "#d8576b"
             ],
             [
              0.6666666666666666,
              "#ed7953"
             ],
             [
              0.7777777777777778,
              "#fb9f3a"
             ],
             [
              0.8888888888888888,
              "#fdca26"
             ],
             [
              1,
              "#f0f921"
             ]
            ],
            "type": "histogram2d"
           }
          ],
          "histogram2dcontour": [
           {
            "colorbar": {
             "outlinewidth": 0,
             "ticks": ""
            },
            "colorscale": [
             [
              0,
              "#0d0887"
             ],
             [
              0.1111111111111111,
              "#46039f"
             ],
             [
              0.2222222222222222,
              "#7201a8"
             ],
             [
              0.3333333333333333,
              "#9c179e"
             ],
             [
              0.4444444444444444,
              "#bd3786"
             ],
             [
              0.5555555555555556,
              "#d8576b"
             ],
             [
              0.6666666666666666,
              "#ed7953"
             ],
             [
              0.7777777777777778,
              "#fb9f3a"
             ],
             [
              0.8888888888888888,
              "#fdca26"
             ],
             [
              1,
              "#f0f921"
             ]
            ],
            "type": "histogram2dcontour"
           }
          ],
          "mesh3d": [
           {
            "colorbar": {
             "outlinewidth": 0,
             "ticks": ""
            },
            "type": "mesh3d"
           }
          ],
          "parcoords": [
           {
            "line": {
             "colorbar": {
              "outlinewidth": 0,
              "ticks": ""
             }
            },
            "type": "parcoords"
           }
          ],
          "pie": [
           {
            "automargin": true,
            "type": "pie"
           }
          ],
          "scatter": [
           {
            "fillpattern": {
             "fillmode": "overlay",
             "size": 10,
             "solidity": 0.2
            },
            "type": "scatter"
           }
          ],
          "scatter3d": [
           {
            "line": {
             "colorbar": {
              "outlinewidth": 0,
              "ticks": ""
             }
            },
            "marker": {
             "colorbar": {
              "outlinewidth": 0,
              "ticks": ""
             }
            },
            "type": "scatter3d"
           }
          ],
          "scattercarpet": [
           {
            "marker": {
             "colorbar": {
              "outlinewidth": 0,
              "ticks": ""
             }
            },
            "type": "scattercarpet"
           }
          ],
          "scattergeo": [
           {
            "marker": {
             "colorbar": {
              "outlinewidth": 0,
              "ticks": ""
             }
            },
            "type": "scattergeo"
           }
          ],
          "scattergl": [
           {
            "marker": {
             "colorbar": {
              "outlinewidth": 0,
              "ticks": ""
             }
            },
            "type": "scattergl"
           }
          ],
          "scattermapbox": [
           {
            "marker": {
             "colorbar": {
              "outlinewidth": 0,
              "ticks": ""
             }
            },
            "type": "scattermapbox"
           }
          ],
          "scatterpolar": [
           {
            "marker": {
             "colorbar": {
              "outlinewidth": 0,
              "ticks": ""
             }
            },
            "type": "scatterpolar"
           }
          ],
          "scatterpolargl": [
           {
            "marker": {
             "colorbar": {
              "outlinewidth": 0,
              "ticks": ""
             }
            },
            "type": "scatterpolargl"
           }
          ],
          "scatterternary": [
           {
            "marker": {
             "colorbar": {
              "outlinewidth": 0,
              "ticks": ""
             }
            },
            "type": "scatterternary"
           }
          ],
          "surface": [
           {
            "colorbar": {
             "outlinewidth": 0,
             "ticks": ""
            },
            "colorscale": [
             [
              0,
              "#0d0887"
             ],
             [
              0.1111111111111111,
              "#46039f"
             ],
             [
              0.2222222222222222,
              "#7201a8"
             ],
             [
              0.3333333333333333,
              "#9c179e"
             ],
             [
              0.4444444444444444,
              "#bd3786"
             ],
             [
              0.5555555555555556,
              "#d8576b"
             ],
             [
              0.6666666666666666,
              "#ed7953"
             ],
             [
              0.7777777777777778,
              "#fb9f3a"
             ],
             [
              0.8888888888888888,
              "#fdca26"
             ],
             [
              1,
              "#f0f921"
             ]
            ],
            "type": "surface"
           }
          ],
          "table": [
           {
            "cells": {
             "fill": {
              "color": "#EBF0F8"
             },
             "line": {
              "color": "white"
             }
            },
            "header": {
             "fill": {
              "color": "#C8D4E3"
             },
             "line": {
              "color": "white"
             }
            },
            "type": "table"
           }
          ]
         },
         "layout": {
          "annotationdefaults": {
           "arrowcolor": "#2a3f5f",
           "arrowhead": 0,
           "arrowwidth": 1
          },
          "autotypenumbers": "strict",
          "coloraxis": {
           "colorbar": {
            "outlinewidth": 0,
            "ticks": ""
           }
          },
          "colorscale": {
           "diverging": [
            [
             0,
             "#8e0152"
            ],
            [
             0.1,
             "#c51b7d"
            ],
            [
             0.2,
             "#de77ae"
            ],
            [
             0.3,
             "#f1b6da"
            ],
            [
             0.4,
             "#fde0ef"
            ],
            [
             0.5,
             "#f7f7f7"
            ],
            [
             0.6,
             "#e6f5d0"
            ],
            [
             0.7,
             "#b8e186"
            ],
            [
             0.8,
             "#7fbc41"
            ],
            [
             0.9,
             "#4d9221"
            ],
            [
             1,
             "#276419"
            ]
           ],
           "sequential": [
            [
             0,
             "#0d0887"
            ],
            [
             0.1111111111111111,
             "#46039f"
            ],
            [
             0.2222222222222222,
             "#7201a8"
            ],
            [
             0.3333333333333333,
             "#9c179e"
            ],
            [
             0.4444444444444444,
             "#bd3786"
            ],
            [
             0.5555555555555556,
             "#d8576b"
            ],
            [
             0.6666666666666666,
             "#ed7953"
            ],
            [
             0.7777777777777778,
             "#fb9f3a"
            ],
            [
             0.8888888888888888,
             "#fdca26"
            ],
            [
             1,
             "#f0f921"
            ]
           ],
           "sequentialminus": [
            [
             0,
             "#0d0887"
            ],
            [
             0.1111111111111111,
             "#46039f"
            ],
            [
             0.2222222222222222,
             "#7201a8"
            ],
            [
             0.3333333333333333,
             "#9c179e"
            ],
            [
             0.4444444444444444,
             "#bd3786"
            ],
            [
             0.5555555555555556,
             "#d8576b"
            ],
            [
             0.6666666666666666,
             "#ed7953"
            ],
            [
             0.7777777777777778,
             "#fb9f3a"
            ],
            [
             0.8888888888888888,
             "#fdca26"
            ],
            [
             1,
             "#f0f921"
            ]
           ]
          },
          "colorway": [
           "#636efa",
           "#EF553B",
           "#00cc96",
           "#ab63fa",
           "#FFA15A",
           "#19d3f3",
           "#FF6692",
           "#B6E880",
           "#FF97FF",
           "#FECB52"
          ],
          "font": {
           "color": "#2a3f5f"
          },
          "geo": {
           "bgcolor": "white",
           "lakecolor": "white",
           "landcolor": "#E5ECF6",
           "showlakes": true,
           "showland": true,
           "subunitcolor": "white"
          },
          "hoverlabel": {
           "align": "left"
          },
          "hovermode": "closest",
          "mapbox": {
           "style": "light"
          },
          "paper_bgcolor": "white",
          "plot_bgcolor": "#E5ECF6",
          "polar": {
           "angularaxis": {
            "gridcolor": "white",
            "linecolor": "white",
            "ticks": ""
           },
           "bgcolor": "#E5ECF6",
           "radialaxis": {
            "gridcolor": "white",
            "linecolor": "white",
            "ticks": ""
           }
          },
          "scene": {
           "xaxis": {
            "backgroundcolor": "#E5ECF6",
            "gridcolor": "white",
            "gridwidth": 2,
            "linecolor": "white",
            "showbackground": true,
            "ticks": "",
            "zerolinecolor": "white"
           },
           "yaxis": {
            "backgroundcolor": "#E5ECF6",
            "gridcolor": "white",
            "gridwidth": 2,
            "linecolor": "white",
            "showbackground": true,
            "ticks": "",
            "zerolinecolor": "white"
           },
           "zaxis": {
            "backgroundcolor": "#E5ECF6",
            "gridcolor": "white",
            "gridwidth": 2,
            "linecolor": "white",
            "showbackground": true,
            "ticks": "",
            "zerolinecolor": "white"
           }
          },
          "shapedefaults": {
           "line": {
            "color": "#2a3f5f"
           }
          },
          "ternary": {
           "aaxis": {
            "gridcolor": "white",
            "linecolor": "white",
            "ticks": ""
           },
           "baxis": {
            "gridcolor": "white",
            "linecolor": "white",
            "ticks": ""
           },
           "bgcolor": "#E5ECF6",
           "caxis": {
            "gridcolor": "white",
            "linecolor": "white",
            "ticks": ""
           }
          },
          "title": {
           "x": 0.05
          },
          "xaxis": {
           "automargin": true,
           "gridcolor": "white",
           "linecolor": "white",
           "ticks": "",
           "title": {
            "standoff": 15
           },
           "zerolinecolor": "white",
           "zerolinewidth": 2
          },
          "yaxis": {
           "automargin": true,
           "gridcolor": "white",
           "linecolor": "white",
           "ticks": "",
           "title": {
            "standoff": 15
           },
           "zerolinecolor": "white",
           "zerolinewidth": 2
          }
         }
        },
        "title": {
         "pad": {
          "b": 60
         },
         "text": "Countries by Sales ",
         "x": 0.5,
         "xanchor": "center",
         "y": 0.9,
         "yanchor": "bottom",
         "yref": "paper"
        },
        "width": 1000
       }
      },
      "image/png": "[encoded data removed]",
      "text/html": [
       "<div>                            <div id=\"b7f56311-e171-4023-a1a9-7165b9e06487\" class=\"plotly-graph-div\" style=\"height:500px; width:1000px;\"></div>            <script type=\"text/javascript\">                require([\"plotly\"], function(Plotly) {                    window.PLOTLYENV=window.PLOTLYENV || {};                                    if (document.getElementById(\"b7f56311-e171-4023-a1a9-7165b9e06487\")) {                    Plotly.newPlot(                        \"b7f56311-e171-4023-a1a9-7165b9e06487\",                        [{\"coloraxis\":\"coloraxis\",\"geo\":\"geo\",\"hovertemplate\":\"\\u003cb\\u003e%{hovertext}\\u003c\\u002fb\\u003e\\u003cbr\\u003e\\u003cbr\\u003eiso_alpha=%{location}\\u003cbr\\u003eSALES=%{z}\\u003cextra\\u003e\\u003c\\u002fextra\\u003e\",\"hovertext\":[\"Australia\",\"Austria\",\"Belgium\",\"Canada\",\"Denmark\",\"Finland\",\"France\",\"Germany\",\"Ireland\",\"Italy\",\"Japan\",\"Norway\",\"Philippines\",\"Singapore\",\"Spain\",\"Sweden\",\"Switzerland\",\"UK\",\"USA\"],\"locations\":[\"AUS\",\"AUT\",\"BEL\",\"CAN\",\"DNK\",\"FIN\",\"FRA\",\"DEU\",\"IRL\",\"ITA\",\"JPN\",\"NOR\",\"PHL\",\"SGP\",\"ESP\",\"SWE\",\"SWIZ\",\"UK\",\"USA\"],\"name\":\"\",\"z\":[630623.1,202062.53,108412.62,224078.56,245637.15,329581.91,1110916.52,220472.09,57756.43,374674.31,188167.81,307463.7,94015.73,288488.41,1215686.92,210014.21,117713.56,478880.46,3627982.83],\"type\":\"choropleth\"}],                        {\"template\":{\"data\":{\"histogram2dcontour\":[{\"type\":\"histogram2dcontour\",\"colorbar\":{\"outlinewidth\":0,\"ticks\":\"\"},\"colorscale\":[[0.0,\"#0d0887\"],[0.1111111111111111,\"#46039f\"],[0.2222222222222222,\"#7201a8\"],[0.3333333333333333,\"#9c179e\"],[0.4444444444444444,\"#bd3786\"],[0.5555555555555556,\"#d8576b\"],[0.6666666666666666,\"#ed7953\"],[0.7777777777777778,\"#fb9f3a\"],[0.8888888888888888,\"#fdca26\"],[1.0,\"#f0f921\"]]}],\"choropleth\":[{\"type\":\"choropleth\",\"colorbar\":{\"outlinewidth\":0,\"ticks\":\"\"}}],\"histogram2d\":[{\"type\":\"histogram2d\",\"colorbar\":{\"outlinewidth\":0,\"ticks\":\"\"},\"colorscale\":[[0.0,\"#0d0887\"],[0.1111111111111111,\"#46039f\"],[0.2222222222222222,\"#7201a8\"],[0.3333333333333333,\"#9c179e\"],[0.4444444444444444,\"#bd3786\"],[0.5555555555555556,\"#d8576b\"],[0.6666666666666666,\"#ed7953\"],[0.7777777777777778,\"#fb9f3a\"],[0.8888888888888888,\"#fdca26\"],[1.0,\"#f0f921\"]]}],\"heatmap\":[{\"type\":\"heatmap\",\"colorbar\":{\"outlinewidth\":0,\"ticks\":\"\"},\"colorscale\":[[0.0,\"#0d0887\"],[0.1111111111111111,\"#46039f\"],[0.2222222222222222,\"#7201a8\"],[0.3333333333333333,\"#9c179e\"],[0.4444444444444444,\"#bd3786\"],[0.5555555555555556,\"#d8576b\"],[0.6666666666666666,\"#ed7953\"],[0.7777777777777778,\"#fb9f3a\"],[0.8888888888888888,\"#fdca26\"],[1.0,\"#f0f921\"]]}],\"heatmapgl\":[{\"type\":\"heatmapgl\",\"colorbar\":{\"outlinewidth\":0,\"ticks\":\"\"},\"colorscale\":[[0.0,\"#0d0887\"],[0.1111111111111111,\"#46039f\"],[0.2222222222222222,\"#7201a8\"],[0.3333333333333333,\"#9c179e\"],[0.4444444444444444,\"#bd3786\"],[0.5555555555555556,\"#d8576b\"],[0.6666666666666666,\"#ed7953\"],[0.7777777777777778,\"#fb9f3a\"],[0.8888888888888888,\"#fdca26\"],[1.0,\"#f0f921\"]]}],\"contourcarpet\":[{\"type\":\"contourcarpet\",\"colorbar\":{\"outlinewidth\":0,\"ticks\":\"\"}}],\"contour\":[{\"type\":\"contour\",\"colorbar\":{\"outlinewidth\":0,\"ticks\":\"\"},\"colorscale\":[[0.0,\"#0d0887\"],[0.1111111111111111,\"#46039f\"],[0.2222222222222222,\"#7201a8\"],[0.3333333333333333,\"#9c179e\"],[0.4444444444444444,\"#bd3786\"],[0.5555555555555556,\"#d8576b\"],[0.6666666666666666,\"#ed7953\"],[0.7777777777777778,\"#fb9f3a\"],[0.8888888888888888,\"#fdca26\"],[1.0,\"#f0f921\"]]}],\"surface\":[{\"type\":\"surface\",\"colorbar\":{\"outlinewidth\":0,\"ticks\":\"\"},\"colorscale\":[[0.0,\"#0d0887\"],[0.1111111111111111,\"#46039f\"],[0.2222222222222222,\"#7201a8\"],[0.3333333333333333,\"#9c179e\"],[0.4444444444444444,\"#bd3786\"],[0.5555555555555556,\"#d8576b\"],[0.6666666666666666,\"#ed7953\"],[0.7777777777777778,\"#fb9f3a\"],[0.8888888888888888,\"#fdca26\"],[1.0,\"#f0f921\"]]}],\"mesh3d\":[{\"type\":\"mesh3d\",\"colorbar\":{\"outlinewidth\":0,\"ticks\":\"\"}}],\"scatter\":[{\"fillpattern\":{\"fillmode\":\"overlay\",\"size\":10,\"solidity\":0.2},\"type\":\"scatter\"}],\"parcoords\":[{\"type\":\"parcoords\",\"line\":{\"colorbar\":{\"outlinewidth\":0,\"ticks\":\"\"}}}],\"scatterpolargl\":[{\"type\":\"scatterpolargl\",\"marker\":{\"colorbar\":{\"outlinewidth\":0,\"ticks\":\"\"}}}],\"bar\":[{\"error_x\":{\"color\":\"#2a3f5f\"},\"error_y\":{\"color\":\"#2a3f5f\"},\"marker\":{\"line\":{\"color\":\"#E5ECF6\",\"width\":0.5},\"pattern\":{\"fillmode\":\"overlay\",\"size\":10,\"solidity\":0.2}},\"type\":\"bar\"}],\"scattergeo\":[{\"type\":\"scattergeo\",\"marker\":{\"colorbar\":{\"outlinewidth\":0,\"ticks\":\"\"}}}],\"scatterpolar\":[{\"type\":\"scatterpolar\",\"marker\":{\"colorbar\":{\"outlinewidth\":0,\"ticks\":\"\"}}}],\"histogram\":[{\"marker\":{\"pattern\":{\"fillmode\":\"overlay\",\"size\":10,\"solidity\":0.2}},\"type\":\"histogram\"}],\"scattergl\":[{\"type\":\"scattergl\",\"marker\":{\"colorbar\":{\"outlinewidth\":0,\"ticks\":\"\"}}}],\"scatter3d\":[{\"type\":\"scatter3d\",\"line\":{\"colorbar\":{\"outlinewidth\":0,\"ticks\":\"\"}},\"marker\":{\"colorbar\":{\"outlinewidth\":0,\"ticks\":\"\"}}}],\"scattermapbox\":[{\"type\":\"scattermapbox\",\"marker\":{\"colorbar\":{\"outlinewidth\":0,\"ticks\":\"\"}}}],\"scatterternary\":[{\"type\":\"scatterternary\",\"marker\":{\"colorbar\":{\"outlinewidth\":0,\"ticks\":\"\"}}}],\"scattercarpet\":[{\"type\":\"scattercarpet\",\"marker\":{\"colorbar\":{\"outlinewidth\":0,\"ticks\":\"\"}}}],\"carpet\":[{\"aaxis\":{\"endlinecolor\":\"#2a3f5f\",\"gridcolor\":\"white\",\"linecolor\":\"white\",\"minorgridcolor\":\"white\",\"startlinecolor\":\"#2a3f5f\"},\"baxis\":{\"endlinecolor\":\"#2a3f5f\",\"gridcolor\":\"white\",\"linecolor\":\"white\",\"minorgridcolor\":\"white\",\"startlinecolor\":\"#2a3f5f\"},\"type\":\"carpet\"}],\"table\":[{\"cells\":{\"fill\":{\"color\":\"#EBF0F8\"},\"line\":{\"color\":\"white\"}},\"header\":{\"fill\":{\"color\":\"#C8D4E3\"},\"line\":{\"color\":\"white\"}},\"type\":\"table\"}],\"barpolar\":[{\"marker\":{\"line\":{\"color\":\"#E5ECF6\",\"width\":0.5},\"pattern\":{\"fillmode\":\"overlay\",\"size\":10,\"solidity\":0.2}},\"type\":\"barpolar\"}],\"pie\":[{\"automargin\":true,\"type\":\"pie\"}]},\"layout\":{\"autotypenumbers\":\"strict\",\"colorway\":[\"#636efa\",\"#EF553B\",\"#00cc96\",\"#ab63fa\",\"#FFA15A\",\"#19d3f3\",\"#FF6692\",\"#B6E880\",\"#FF97FF\",\"#FECB52\"],\"font\":{\"color\":\"#2a3f5f\"},\"hovermode\":\"closest\",\"hoverlabel\":{\"align\":\"left\"},\"paper_bgcolor\":\"white\",\"plot_bgcolor\":\"#E5ECF6\",\"polar\":{\"bgcolor\":\"#E5ECF6\",\"angularaxis\":{\"gridcolor\":\"white\",\"linecolor\":\"white\",\"ticks\":\"\"},\"radialaxis\":{\"gridcolor\":\"white\",\"linecolor\":\"white\",\"ticks\":\"\"}},\"ternary\":{\"bgcolor\":\"#E5ECF6\",\"aaxis\":{\"gridcolor\":\"white\",\"linecolor\":\"white\",\"ticks\":\"\"},\"baxis\":{\"gridcolor\":\"white\",\"linecolor\":\"white\",\"ticks\":\"\"},\"caxis\":{\"gridcolor\":\"white\",\"linecolor\":\"white\",\"ticks\":\"\"}},\"coloraxis\":{\"colorbar\":{\"outlinewidth\":0,\"ticks\":\"\"}},\"colorscale\":{\"sequential\":[[0.0,\"#0d0887\"],[0.1111111111111111,\"#46039f\"],[0.2222222222222222,\"#7201a8\"],[0.3333333333333333,\"#9c179e\"],[0.4444444444444444,\"#bd3786\"],[0.5555555555555556,\"#d8576b\"],[0.6666666666666666,\"#ed7953\"],[0.7777777777777778,\"#fb9f3a\"],[0.8888888888888888,\"#fdca26\"],[1.0,\"#f0f921\"]],\"sequentialminus\":[[0.0,\"#0d0887\"],[0.1111111111111111,\"#46039f\"],[0.2222222222222222,\"#7201a8\"],[0.3333333333333333,\"#9c179e\"],[0.4444444444444444,\"#bd3786\"],[0.5555555555555556,\"#d8576b\"],[0.6666666666666666,\"#ed7953\"],[0.7777777777777778,\"#fb9f3a\"],[0.8888888888888888,\"#fdca26\"],[1.0,\"#f0f921\"]],\"diverging\":[[0,\"#8e0152\"],[0.1,\"#c51b7d\"],[0.2,\"#de77ae\"],[0.3,\"#f1b6da\"],[0.4,\"#fde0ef\"],[0.5,\"#f7f7f7\"],[0.6,\"#e6f5d0\"],[0.7,\"#b8e186\"],[0.8,\"#7fbc41\"],[0.9,\"#4d9221\"],[1,\"#276419\"]]},\"xaxis\":{\"gridcolor\":\"white\",\"linecolor\":\"white\",\"ticks\":\"\",\"title\":{\"standoff\":15},\"zerolinecolor\":\"white\",\"automargin\":true,\"zerolinewidth\":2},\"yaxis\":{\"gridcolor\":\"white\",\"linecolor\":\"white\",\"ticks\":\"\",\"title\":{\"standoff\":15},\"zerolinecolor\":\"white\",\"automargin\":true,\"zerolinewidth\":2},\"scene\":{\"xaxis\":{\"backgroundcolor\":\"#E5ECF6\",\"gridcolor\":\"white\",\"linecolor\":\"white\",\"showbackground\":true,\"ticks\":\"\",\"zerolinecolor\":\"white\",\"gridwidth\":2},\"yaxis\":{\"backgroundcolor\":\"#E5ECF6\",\"gridcolor\":\"white\",\"linecolor\":\"white\",\"showbackground\":true,\"ticks\":\"\",\"zerolinecolor\":\"white\",\"gridwidth\":2},\"zaxis\":{\"backgroundcolor\":\"#E5ECF6\",\"gridcolor\":\"white\",\"linecolor\":\"white\",\"showbackground\":true,\"ticks\":\"\",\"zerolinecolor\":\"white\",\"gridwidth\":2}},\"shapedefaults\":{\"line\":{\"color\":\"#2a3f5f\"}},\"annotationdefaults\":{\"arrowcolor\":\"#2a3f5f\",\"arrowhead\":0,\"arrowwidth\":1},\"geo\":{\"bgcolor\":\"white\",\"landcolor\":\"#E5ECF6\",\"subunitcolor\":\"white\",\"showland\":true,\"showlakes\":true,\"lakecolor\":\"white\"},\"title\":{\"x\":0.05},\"mapbox\":{\"style\":\"light\"}}},\"geo\":{\"domain\":{\"x\":[0.0,1.0],\"y\":[0.0,1.0]},\"center\":{}},\"coloraxis\":{\"colorbar\":{\"title\":{\"text\":\"SALES\"}},\"colorscale\":[[0.0,\"#0d0887\"],[0.1111111111111111,\"#46039f\"],[0.2222222222222222,\"#7201a8\"],[0.3333333333333333,\"#9c179e\"],[0.4444444444444444,\"#bd3786\"],[0.5555555555555556,\"#d8576b\"],[0.6666666666666666,\"#ed7953\"],[0.7777777777777778,\"#fb9f3a\"],[0.8888888888888888,\"#fdca26\"],[1.0,\"#f0f921\"]]},\"legend\":{\"tracegroupgap\":0},\"title\":{\"text\":\"Countries by Sales \",\"pad\":{\"b\":60},\"xanchor\":\"center\",\"x\":0.5,\"yref\":\"paper\",\"yanchor\":\"bottom\",\"y\":0.9},\"width\":1000,\"height\":500},                        {\"responsive\": true}                    ).then(function(){\n",
       "                            \n",
       "var gd = document.getElementById('b7f56311-e171-4023-a1a9-7165b9e06487');\n",
       "var x = new MutationObserver(function (mutations, observer) {{\n",
       "        var display = window.getComputedStyle(gd).display;\n",
       "        if (!display || display === 'none') {{\n",
       "            console.log([gd, 'removed!']);\n",
       "            Plotly.purge(gd);\n",
       "            observer.disconnect();\n",
       "        }}\n",
       "}});\n",
       "\n",
       "// Listen for the removal of the full notebook cells\n",
       "var notebookContainer = gd.closest('#notebook-container');\n",
       "if (notebookContainer) {{\n",
       "    x.observe(notebookContainer, {childList: true});\n",
       "}}\n",
       "\n",
       "// Listen for the clearing of the current output cell\n",
       "var outputEl = gd.closest('.output');\n",
       "if (outputEl) {{\n",
       "    x.observe(outputEl, {childList: true});\n",
       "}}\n",
       "\n",
       "                        })                };                });            </script>        </div>"
      ]
     },
     "metadata": {},
     "output_type": "display_data"
    },
    {
     "data": {
      "text/plain": [
       "<Figure size 800x600 with 0 Axes>"
      ]
     },
     "metadata": {},
     "output_type": "display_data"
    }
   ],
   "source": [
    "plt.figure(figsize=(8,6))\n",
    "\n",
    "fig = px.choropleth(country, \n",
    "                    locations=\"iso_alpha\", \n",
    "                    color=\"SALES\",\n",
    "                    hover_name=\"COUNTRY\", \n",
    "                    color_continuous_scale=px.colors.sequential.Plasma,\n",
    "                    title=\"Sales by Country\")\n",
    "\n",
    "\n",
    "# Update the map layout to enlarge the map\n",
    "fig.update_layout(\n",
    "    width=1000,  # Set the width of the figure\n",
    "    height=500,  # Set the height of the figure\n",
    "    title=dict(\n",
    "        text=\"Countries by Sales \",\n",
    "        xanchor='center',\n",
    "        x=0.5,\n",
    "        yref='paper',\n",
    "        yanchor='bottom',\n",
    "        y=0.9,\n",
    "        pad={'b': 60}\n",
    "    )\n",
    ")\n",
    "\n",
    "fig.show()\n"
   ]
  },
  {
   "cell_type": "markdown",
   "id": "c455df54-be0b-4021-8c27-d88c3fa9d00c",
   "metadata": {},
   "source": [
    "The map shows that majority of the sales are sold in USA, about 3.9 million"
   ]
  },
  {
   "cell_type": "markdown",
   "id": "3e13be8d-6bee-4305-8ee3-52e958eb2944",
   "metadata": {},
   "source": [
    "#### Q4. Sales Distribution: Order Quantity Distribution and Revenue Distribution"
   ]
  },
  {
   "cell_type": "code",
   "execution_count": 34,
   "id": "83649e09-4716-4301-87c8-5cf6ddc44d06",
   "metadata": {},
   "outputs": [
    {
     "data": {
      "image/png": "[encoded data removed]",
      "text/plain": [
       "<Figure size 900x600 with 1 Axes>"
      ]
     },
     "metadata": {},
     "output_type": "display_data"
    }
   ],
   "source": [
    "# visualize the sales distribution over time\n",
    "plt.figure(figsize=(9,6))\n",
    "\n",
    "ax= sns.histplot(df['SALES'])\n",
    "\n",
    "plt.title('Sales Distribution')\n",
    "plt.xlabel('Sales')\n",
    "plt.ylabel('Frequency')\n",
    "plt.show()"
   ]
  },
  {
   "cell_type": "markdown",
   "id": "d2910abe-2406-4250-bee9-9d4a4d6ac9a7",
   "metadata": {},
   "source": [
    "The sales distribution is right skewed. The distribution shows that majority of the sales are between $1500 to $4000. Let's reduce the skewness by log transformation."
   ]
  },
  {
   "cell_type": "code",
   "execution_count": 43,
   "id": "6fcff241-ceb6-4825-a9b5-577675924d10",
   "metadata": {},
   "outputs": [
    {
     "data": {
      "image/png": "[encoded data removed]",
      "text/plain": [
       "<Figure size 1000x500 with 1 Axes>"
      ]
     },
     "metadata": {},
     "output_type": "display_data"
    }
   ],
   "source": [
    "plt.figure(figsize=(10,5))\n",
    "\n",
    "data= np.log(df['SALES']+1)\n",
    "\n",
    "# Visualize the transformed distribution\n",
    "sns.histplot(data, kde=True)\n",
    "plt.title('Log Transformed Sales Distribution')\n",
    "plt.show()"
   ]
  },
  {
   "cell_type": "markdown",
   "id": "92863730-9901-453e-aa48-28f5fe7f7150",
   "metadata": {},
   "source": [
    "The transformed sales distribution is almost a normal distribution."
   ]
  },
  {
   "cell_type": "markdown",
   "id": "293eb05f-c5d9-49ab-82af-44f5c2d037c6",
   "metadata": {},
   "source": [
    " "
   ]
  },
  {
   "cell_type": "code",
   "execution_count": 45,
   "id": "1f3cfaa7-eda3-4025-a6aa-64d8b23d9eaa",
   "metadata": {},
   "outputs": [
    {
     "data": {
      "image/png": "[encoded data removed]",
      "text/plain": [
       "<Figure size 900x600 with 1 Axes>"
      ]
     },
     "metadata": {},
     "output_type": "display_data"
    }
   ],
   "source": [
    "# visualize the Quantity Ordered distribution over time\n",
    "plt.figure(figsize=(9,6))\n",
    "\n",
    "ax= sns.histplot(df['QUANTITYORDERED'], kde=True)\n",
    "\n",
    "plt.title('Quantity Ordered Distribution')\n",
    "plt.xlabel('Quantity Ordered')\n",
    "plt.ylabel('Frequency')\n",
    "plt.show()"
   ]
  },
  {
   "cell_type": "markdown",
   "id": "d4980666-f1b6-4355-aefe-675745b6b36f",
   "metadata": {},
   "source": [
    "Most of the product quantity ordered ranges from 20 to 50 "
   ]
  },
  {
   "cell_type": "code",
   "execution_count": null,
   "id": "c2171bc2-038a-4793-9f26-8252f171b5b1",
   "metadata": {},
   "outputs": [],
   "source": []
  },
  {
   "cell_type": "code",
   "execution_count": null,
   "id": "7092a059-2f98-4d5c-8da8-1c0c0e689430",
   "metadata": {},
   "outputs": [],
   "source": []
  },
  {
   "cell_type": "code",
   "execution_count": null,
   "id": "30e7b8e9-2a21-4671-bcd3-7353f308c49f",
   "metadata": {},
   "outputs": [],
   "source": []
  },
  {
   "cell_type": "code",
   "execution_count": null,
   "id": "b66d640c-fdea-4a61-ba32-63a926a307df",
   "metadata": {},
   "outputs": [],
   "source": []
  }
 ],
 "metadata": {
  "kernelspec": {
   "display_name": "Python 3 (ipykernel)",
   "language": "python",
   "name": "python3"
  },
  "language_info": {
   "codemirror_mode": {
    "name": "ipython",
    "version": 3
   },
   "file_extension": ".py",
   "mimetype": "text/x-python",
   "name": "python",
   "nbconvert_exporter": "python",
   "pygments_lexer": "ipython3",
   "version": "3.8.18"
  }
 },
 "nbformat": 4,
 "nbformat_minor": 5
}
